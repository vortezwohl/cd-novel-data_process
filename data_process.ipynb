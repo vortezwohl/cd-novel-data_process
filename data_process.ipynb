{
 "cells": [
  {
   "cell_type": "code",
   "execution_count": null,
   "id": "initial_id",
   "metadata": {
    "collapsed": true
   },
   "outputs": [],
   "source": [
    "import pandas as pd\n",
    "\n",
    "data = pd.read_excel('./data/Maria Eduarda Antunes Costa Araújo(390137).xlsx')\n",
    "data"
   ]
  },
  {
   "cell_type": "code",
   "outputs": [],
   "source": [
    "data_dict = data.to_dict(orient='records')\n",
    "data_dict[0]"
   ],
   "metadata": {
    "collapsed": false
   },
   "id": "5e70a89603a01196",
   "execution_count": null
  },
  {
   "cell_type": "code",
   "outputs": [],
   "source": [
    "dataset = []\n",
    "\n",
    "for item in data_dict:\n",
    "    if isinstance(item['最终发布内容'], float):\n",
    "        continue\n",
    "    else:\n",
    "        if (not isinstance(item['原文内容'], float) \n",
    "            and not isinstance(item['机翻内容'], float) \n",
    "            and not isinstance(item['一校精修内容'], float)\n",
    "            and not isinstance(item['最终发布内容'], float) \n",
    "            and item['原文内容'].lstrip().lower().startswith('chapter')):\n",
    "            dataset.append({\n",
    "                '章节Id': item['章节Id'],\n",
    "                '章节名': item['章节名称'],\n",
    "                '章节序号': item['章节序号'],\n",
    "                '章节内容': item['原文内容'],\n",
    "                '机翻内容': item['机翻内容'],\n",
    "                '翻译精修': item['一校精修内容']\n",
    "            })\n",
    "\n",
    "dataset[:3]"
   ],
   "metadata": {
    "collapsed": false
   },
   "id": "a43c750028a4f3d0",
   "execution_count": null
  },
  {
   "cell_type": "code",
   "outputs": [],
   "source": [
    "len(dataset)"
   ],
   "metadata": {
    "collapsed": false
   },
   "id": "b933f235a38305b0",
   "execution_count": null
  },
  {
   "cell_type": "code",
   "outputs": [],
   "source": [
    "ptr_0 = 0\n",
    "for item in data_dict[1:]:\n",
    "    if (not isinstance(item['原文内容'], float) \n",
    "            and not isinstance(item['机翻内容'], float) \n",
    "            and not isinstance(item['一校精修内容'], float)\n",
    "            and not isinstance(item['最终发布内容'], float)):\n",
    "        if item['原文内容'].lstrip().lower().startswith('chapter'):\n",
    "            ptr_0 += 1\n",
    "            continue\n",
    "        if ptr_0 >= len(dataset):\n",
    "            break\n",
    "        dataset[ptr_0]['章节内容'] += ('\\n' + item['原文内容'])\n",
    "        dataset[ptr_0]['机翻内容'] += ('\\n' + item['机翻内容'])\n",
    "        dataset[ptr_0]['翻译精修'] += ('\\n' + item['一校精修内容'])\n",
    "    \n",
    "dataset[1]['翻译精修']"
   ],
   "metadata": {
    "collapsed": false
   },
   "id": "7c876f150aef97c5",
   "execution_count": null
  },
  {
   "cell_type": "code",
   "outputs": [],
   "source": [
    "pd.DataFrame(dataset).to_excel('./data/output/Lorena Scaglia Dataset.xlsx')"
   ],
   "metadata": {
    "collapsed": false
   },
   "id": "c271eda5654d2c6a",
   "execution_count": null
  }
 ],
 "metadata": {
  "kernelspec": {
   "display_name": "Python 3",
   "language": "python",
   "name": "python3"
  },
  "language_info": {
   "codemirror_mode": {
    "name": "ipython",
    "version": 2
   },
   "file_extension": ".py",
   "mimetype": "text/x-python",
   "name": "python",
   "nbconvert_exporter": "python",
   "pygments_lexer": "ipython2",
   "version": "2.7.6"
  }
 },
 "nbformat": 4,
 "nbformat_minor": 5
}
