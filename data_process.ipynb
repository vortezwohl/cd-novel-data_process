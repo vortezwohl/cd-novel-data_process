{
 "cells": [
  {
   "cell_type": "code",
   "execution_count": 4,
   "id": "initial_id",
   "metadata": {
    "collapsed": true,
    "ExecuteTime": {
     "end_time": "2025-10-28T15:34:35.785509Z",
     "start_time": "2025-10-28T15:34:23.968265Z"
    }
   },
   "outputs": [
    {
     "data": {
      "text/plain": "                         译员名称    章节Id  \\\n0      Lorena Scaglia(689686)  436551   \n1      Lorena Scaglia(689686)  436551   \n2      Lorena Scaglia(689686)  436551   \n3      Lorena Scaglia(689686)  436551   \n4      Lorena Scaglia(689686)  436551   \n...                       ...     ...   \n99534  Lorena Scaglia(689686)  859691   \n99535  Lorena Scaglia(689686)  859691   \n99536  Lorena Scaglia(689686)  859691   \n99537  Lorena Scaglia(689686)  859691   \n99538  Lorena Scaglia(689686)  859691   \n\n                                           章节名称  章节序号  是否段首  排序  \\\n0               Chapter 928 Getting Married Too   928     1   0   \n1               Chapter 928 Getting Married Too   928     1   1   \n2               Chapter 928 Getting Married Too   928     1   2   \n3               Chapter 928 Getting Married Too   928     0   3   \n4               Chapter 928 Getting Married Too   928     0   4   \n...                                         ...   ...   ...  ..   \n99534  Chapter 175 Did You Ever Get The Report?   175     1  67   \n99535  Chapter 175 Did You Ever Get The Report?   175     0  68   \n99536  Chapter 175 Did You Ever Get The Report?   175     1  69   \n99537  Chapter 175 Did You Ever Get The Report?   175     1  70   \n99538  Chapter 175 Did You Ever Get The Report?   175     1  71   \n\n                                                    原文内容  \\\n0                        Chapter 928 Getting Married Too   \n1      Scarlet and Yasmin were soon at the cemetery b...   \n2              He was dressed from head to toe in black.   \n3                                   It was a chilly day.   \n4                                   The wind was biting.   \n...                                                  ...   \n99534  She had received the report straight from the ...   \n99535  That had been exactly two days before the cele...   \n99536  She knew Thea was expecting before the birthda...   \n99537  The incident at the banquet replayed in Jerred...   \n99538  For the first time, he found himself questioni...   \n\n                                                    机翻内容  \\\n0                            Capítulo 928 Casando também   \n1      Scarlet e Yasmin logo chegaram ao cemitério, m...   \n2         Ele estava vestido de preto da cabeça aos pés.   \n3                                       Foi um dia frio.   \n4                               O vento estava cortante.   \n...                                                  ...   \n99534  Ela recebera o relatório diretamente das mãos ...   \n99535  Isso fora exatamente dois dias antes da festa ...   \n99536  Ela sabia que Thea estava grávida antes do ban...   \n99537  A cena do banquete invadiu a mente de Jerred: ...   \n99538  Pela primeira vez, ele duvidou da cena que pre...   \n\n                                                  一校精修内容  \\\n0                                  Capítulo 928 Me casar   \n1      Assim que Scarlet e Yasmin chegaram ao cemitér...   \n2                     Vestido de preto dos pés à cabeça,   \n3                         ele contrastava com o dia frio   \n4            e o vento cortante que soprava sem piedade.   \n...                                                  ...   \n99534         Ela recebeu aquele laudo cinco dias antes,   \n99535         ou seja, dois dias antes da festa de Theo.   \n99536    Ela já sabia da gravidez muito antes do jantar.   \n99537  O filme da queda na escada passou por sua ment...   \n99538  Pela primeira vez, Jerred se perguntou se a ce...   \n\n                                                  最终发布内容  \n0                                  Capítulo 928 Me casar  \n1      Assim que Scarlet e Yasmin chegaram ao cemitér...  \n2                     Vestido de preto dos pés à cabeça,  \n3         ele contrastava com o vento cortante e o frio,  \n4            sua figura magra destacando-se na paisagem.  \n...                                                  ...  \n99534         Ela recebeu aquele laudo cinco dias antes,  \n99535         ou seja, dois dias antes da festa de Theo.  \n99536                        Ela já sabia da gravidez...  \n99537  A cena da queda na escada passou pela mente de...  \n99538  Pela primeira vez, ele se perguntou se o que e...  \n\n[99539 rows x 10 columns]",
      "text/html": "<div>\n<style scoped>\n    .dataframe tbody tr th:only-of-type {\n        vertical-align: middle;\n    }\n\n    .dataframe tbody tr th {\n        vertical-align: top;\n    }\n\n    .dataframe thead th {\n        text-align: right;\n    }\n</style>\n<table border=\"1\" class=\"dataframe\">\n  <thead>\n    <tr style=\"text-align: right;\">\n      <th></th>\n      <th>译员名称</th>\n      <th>章节Id</th>\n      <th>章节名称</th>\n      <th>章节序号</th>\n      <th>是否段首</th>\n      <th>排序</th>\n      <th>原文内容</th>\n      <th>机翻内容</th>\n      <th>一校精修内容</th>\n      <th>最终发布内容</th>\n    </tr>\n  </thead>\n  <tbody>\n    <tr>\n      <th>0</th>\n      <td>Lorena Scaglia(689686)</td>\n      <td>436551</td>\n      <td>Chapter 928 Getting Married Too</td>\n      <td>928</td>\n      <td>1</td>\n      <td>0</td>\n      <td>Chapter 928 Getting Married Too</td>\n      <td>Capítulo 928 Casando também</td>\n      <td>Capítulo 928 Me casar</td>\n      <td>Capítulo 928 Me casar</td>\n    </tr>\n    <tr>\n      <th>1</th>\n      <td>Lorena Scaglia(689686)</td>\n      <td>436551</td>\n      <td>Chapter 928 Getting Married Too</td>\n      <td>928</td>\n      <td>1</td>\n      <td>1</td>\n      <td>Scarlet and Yasmin were soon at the cemetery b...</td>\n      <td>Scarlet e Yasmin logo chegaram ao cemitério, m...</td>\n      <td>Assim que Scarlet e Yasmin chegaram ao cemitér...</td>\n      <td>Assim que Scarlet e Yasmin chegaram ao cemitér...</td>\n    </tr>\n    <tr>\n      <th>2</th>\n      <td>Lorena Scaglia(689686)</td>\n      <td>436551</td>\n      <td>Chapter 928 Getting Married Too</td>\n      <td>928</td>\n      <td>1</td>\n      <td>2</td>\n      <td>He was dressed from head to toe in black.</td>\n      <td>Ele estava vestido de preto da cabeça aos pés.</td>\n      <td>Vestido de preto dos pés à cabeça,</td>\n      <td>Vestido de preto dos pés à cabeça,</td>\n    </tr>\n    <tr>\n      <th>3</th>\n      <td>Lorena Scaglia(689686)</td>\n      <td>436551</td>\n      <td>Chapter 928 Getting Married Too</td>\n      <td>928</td>\n      <td>0</td>\n      <td>3</td>\n      <td>It was a chilly day.</td>\n      <td>Foi um dia frio.</td>\n      <td>ele contrastava com o dia frio</td>\n      <td>ele contrastava com o vento cortante e o frio,</td>\n    </tr>\n    <tr>\n      <th>4</th>\n      <td>Lorena Scaglia(689686)</td>\n      <td>436551</td>\n      <td>Chapter 928 Getting Married Too</td>\n      <td>928</td>\n      <td>0</td>\n      <td>4</td>\n      <td>The wind was biting.</td>\n      <td>O vento estava cortante.</td>\n      <td>e o vento cortante que soprava sem piedade.</td>\n      <td>sua figura magra destacando-se na paisagem.</td>\n    </tr>\n    <tr>\n      <th>...</th>\n      <td>...</td>\n      <td>...</td>\n      <td>...</td>\n      <td>...</td>\n      <td>...</td>\n      <td>...</td>\n      <td>...</td>\n      <td>...</td>\n      <td>...</td>\n      <td>...</td>\n    </tr>\n    <tr>\n      <th>99534</th>\n      <td>Lorena Scaglia(689686)</td>\n      <td>859691</td>\n      <td>Chapter 175 Did You Ever Get The Report?</td>\n      <td>175</td>\n      <td>1</td>\n      <td>67</td>\n      <td>She had received the report straight from the ...</td>\n      <td>Ela recebera o relatório diretamente das mãos ...</td>\n      <td>Ela recebeu aquele laudo cinco dias antes,</td>\n      <td>Ela recebeu aquele laudo cinco dias antes,</td>\n    </tr>\n    <tr>\n      <th>99535</th>\n      <td>Lorena Scaglia(689686)</td>\n      <td>859691</td>\n      <td>Chapter 175 Did You Ever Get The Report?</td>\n      <td>175</td>\n      <td>0</td>\n      <td>68</td>\n      <td>That had been exactly two days before the cele...</td>\n      <td>Isso fora exatamente dois dias antes da festa ...</td>\n      <td>ou seja, dois dias antes da festa de Theo.</td>\n      <td>ou seja, dois dias antes da festa de Theo.</td>\n    </tr>\n    <tr>\n      <th>99536</th>\n      <td>Lorena Scaglia(689686)</td>\n      <td>859691</td>\n      <td>Chapter 175 Did You Ever Get The Report?</td>\n      <td>175</td>\n      <td>1</td>\n      <td>69</td>\n      <td>She knew Thea was expecting before the birthda...</td>\n      <td>Ela sabia que Thea estava grávida antes do ban...</td>\n      <td>Ela já sabia da gravidez muito antes do jantar.</td>\n      <td>Ela já sabia da gravidez...</td>\n    </tr>\n    <tr>\n      <th>99537</th>\n      <td>Lorena Scaglia(689686)</td>\n      <td>859691</td>\n      <td>Chapter 175 Did You Ever Get The Report?</td>\n      <td>175</td>\n      <td>1</td>\n      <td>70</td>\n      <td>The incident at the banquet replayed in Jerred...</td>\n      <td>A cena do banquete invadiu a mente de Jerred: ...</td>\n      <td>O filme da queda na escada passou por sua ment...</td>\n      <td>A cena da queda na escada passou pela mente de...</td>\n    </tr>\n    <tr>\n      <th>99538</th>\n      <td>Lorena Scaglia(689686)</td>\n      <td>859691</td>\n      <td>Chapter 175 Did You Ever Get The Report?</td>\n      <td>175</td>\n      <td>1</td>\n      <td>71</td>\n      <td>For the first time, he found himself questioni...</td>\n      <td>Pela primeira vez, ele duvidou da cena que pre...</td>\n      <td>Pela primeira vez, Jerred se perguntou se a ce...</td>\n      <td>Pela primeira vez, ele se perguntou se o que e...</td>\n    </tr>\n  </tbody>\n</table>\n<p>99539 rows × 10 columns</p>\n</div>"
     },
     "execution_count": 4,
     "metadata": {},
     "output_type": "execute_result"
    }
   ],
   "source": [
    "import pandas as pd\n",
    "\n",
    "data = pd.read_excel('./data/Lorena Scaglia(689686).xlsx')\n",
    "data"
   ]
  },
  {
   "cell_type": "code",
   "outputs": [
    {
     "data": {
      "text/plain": "{'译员名称': 'Lorena Scaglia(689686)',\n '章节Id': 436551,\n '章节名称': 'Chapter 928 Getting Married Too',\n '章节序号': 928,\n '是否段首': 1,\n '排序': 0,\n '原文内容': 'Chapter 928 Getting Married Too',\n '机翻内容': 'Capítulo 928 Casando também',\n '一校精修内容': 'Capítulo 928 Me casar',\n '最终发布内容': 'Capítulo 928 Me casar'}"
     },
     "execution_count": 5,
     "metadata": {},
     "output_type": "execute_result"
    }
   ],
   "source": [
    "data_dict = data.to_dict(orient='records')\n",
    "data_dict[0]"
   ],
   "metadata": {
    "collapsed": false,
    "ExecuteTime": {
     "end_time": "2025-10-28T15:34:36.236468Z",
     "start_time": "2025-10-28T15:34:35.788625Z"
    }
   },
   "id": "5e70a89603a01196",
   "execution_count": 5
  },
  {
   "cell_type": "code",
   "outputs": [
    {
     "data": {
      "text/plain": "[{'章节Id': 436551,\n  '章节名': 'Chapter 928 Getting Married Too',\n  '章节序号': 928,\n  '章节内容': 'Chapter 928 Getting Married Too',\n  '机翻内容': 'Capítulo 928 Casando também',\n  '翻译精修': 'Capítulo 928 Me casar'},\n {'章节Id': 436599,\n  '章节名': 'Chapter 930 Care',\n  '章节序号': 930,\n  '章节内容': 'Chapter 930 Care',\n  '机翻内容': 'Capítulo 930 Cuidados',\n  '翻译精修': 'Capítulo 930 É claro que me importo'},\n {'章节Id': 437022,\n  '章节名': 'Chapter 934 Sarcasm',\n  '章节序号': 934,\n  '章节内容': 'Chapter 934 Sarcasm',\n  '机翻内容': 'Capítulo 934 Sarcasmo',\n  '翻译精修': 'Capítulo 934 Sarcasmo'}]"
     },
     "execution_count": 31,
     "metadata": {},
     "output_type": "execute_result"
    }
   ],
   "source": [
    "dataset = []\n",
    "\n",
    "for item in data_dict:\n",
    "    if isinstance(item['最终发布内容'], float):\n",
    "        continue\n",
    "    else:\n",
    "        if (not isinstance(item['原文内容'], float) \n",
    "            and not isinstance(item['机翻内容'], float) \n",
    "            and not isinstance(item['一校精修内容'], float)\n",
    "            and not isinstance(item['最终发布内容'], float) \n",
    "            and item['原文内容'].lstrip().lower().startswith('chapter')):\n",
    "            dataset.append({\n",
    "                '章节Id': item['章节Id'],\n",
    "                '章节名': item['章节名称'],\n",
    "                '章节序号': item['章节序号'],\n",
    "                '章节内容': item['原文内容'],\n",
    "                '机翻内容': item['机翻内容'],\n",
    "                '翻译精修': item['一校精修内容']\n",
    "            })\n",
    "\n",
    "dataset[:3]"
   ],
   "metadata": {
    "collapsed": false,
    "ExecuteTime": {
     "end_time": "2025-10-28T16:42:49.221182Z",
     "start_time": "2025-10-28T16:42:49.094105Z"
    }
   },
   "id": "a43c750028a4f3d0",
   "execution_count": 31
  },
  {
   "cell_type": "code",
   "outputs": [
    {
     "data": {
      "text/plain": "'Capítulo 587 A futura esposa\\nApós concluir a compra do carro, Sanford decidiu que era hora de celebrar com um jantar.\\n\"Bart, você pode dirigir o novo carro e me seguir? Vamos para o Restaurante Atera\", sugeriu Sanford.\\n\"Ótima ideia\", respondeu Bart, com os olhos brilhando de empolgação.\\nEle entrou no carro recém-adquirido e seguiu Sanford com entusiasmo.\\nEnquanto Maggie se acomodava no banco do passageiro ao lado de Sanford, ela achou muito mais relaxante deixar alguém dirigir do que assumir o volante sozinha.\\nA ideia de ter um carro tão sofisticado parecia desnecessária. Ela só dirigiria se fosse realmente preciso.\\nImersa em seus pensamentos, Maggie saiu do transe ao ouvir a voz de Sanford falando ao telefone.\\n\"Preciso de uma seleção de roupas da moda, sapatos e bolsas para uma jovem, e roupas e sapatos para um jovem de cerca de dezoito anos.\\nEnvie tudo para o meu apartamento.\"\\nA surpresa de Maggie deu lugar à curiosidade.\\nQuando Sanford terminou a ligação, ela perguntou: \"Você está comprando roupas para Bart e para mim?\"\\n\"Exatamente\", respondeu Sanford.\\nMaggie mexeu nos dedos, evitando o olhar dele.\\n\"Sinto muito pelo que aconteceu na concessionária, Sanford.\"\\nEla estava preocupada que o desprezo da vendedora pelo traje simples que ela e o irmão usaram pudesse ter manchado a reputação de Sanford.\\nSanford respondeu: \"Não se preocupe com isso.\\nNão deixe que a opinião de pessoas pequenas te afete.\"\\nEle a olhou por um instante antes de estender a mão e segurar a dela.\\nSeu aperto era reconfortante, e o calor de sua mão era tranquilizador.\\nMaggie olhou para ele, seus olhos cheios de gratidão.\\n\"Sanford, obrigada\", ela disse, seu coração transbordando uma felicidade que nunca tinha sentido antes.\\n\"Então, que tal você se esforçar para me agradar esta noite?\",\\nele sugeriu, com um brilho provocador nos olhos.\\nAs bochechas de Maggie coraram, e ela assentiu.\\n\"Claro.\"\\nSanford riu com a obediência dela.\\nEle estendeu a mão para bagunçar o cabelo dela e a chamou carinhosamente de \"garota boba\".\\nSua voz estava cheia de ternura.\\nMaggie, olhando para baixo, decidiu dar o seu melhor e ser a melhor versão de si mesma para ele.\\nQuando chegaram ao Restaurante Atera, saíram dos carros e o celular de Sanford tocou novamente.\\nDeterminado a não deixar Maggie sozinha,\\nele levou o trio para dentro do restaurante enquanto atendia à ligação.\\nOs funcionários reconheceram Sanford imediatamente e o saudaram com respeito.\\nAbsorvido na conversa ao telefone, ele não respondeu.\\nA atenção da equipe então se voltou para Maggie, que rapidamente se tornou o alvo de sussurros e especulações.\\n\"Não é aquela Maggie que costumava trabalhar de garçonete aqui?\"\\n\"Sim, é ela mesmo.\\nFoi demitida depois de um desentendimento com a futura esposa do chefe, não foi?\"\\n\"O que ela está fazendo aqui agora?\\nSerá que está tentando recuperar o emprego?\\'\\nOs sussurros, embora discretos, eram suficientemente altos para que Maggie pudesse ouvir cada palavra.\\nEles a fizeram lembrar do tempo em que Millie a menosprezava e Sanford ignorava tudo.\\nEra desconfortável relembrar aquele período.\\nNo entanto, a situação mudou drasticamente.\\nQuem diria que ela, que havia sido demitida pela futura esposa do chefe, agora estava na companhia do próprio chefe?\\nAbsorvida em seus pensamentos, Maggie não notou que Sanford havia parado e acabou esbarrando nele.\\nEle a segurou nos braços, deu um tapinha em seu nariz de brincadeira e disse: \"Sonhando acordada?\\nOlhe por onde anda.\"\\nMaggie apenas assentiu em silêncio.\\nO grupo de garçons, que estava sussurrando, congelou, com os olhos arregalados ao ver o casal.\\nSanford se virou para eles com um olhar frio.\\n\"Não espalhem rumores sobre minha futura esposa às minhas costas.\\nCaso contrário, vocês podem acabar aprendendo uma lição difícil.\"\\nFutura esposa do patrão?\\nEstava ele se referindo a Maggie?\\nOs garçons ficaram surpresos, e rapidamente desviaram o olhar e responderam com respeito.\\nO coração de Maggie acelerou.\\nA alegria que sentia parecia quase irreal,\\ne ela temia que fosse apenas um momento passageiro de felicidade.\\nQuando o trio estava prestes a entrar na sala privada de Sanford, uma voz feminina hesitante soou por trás.\\n\"Sanford?\"\\nApós concluir a compra do carro, Sanford decidiu que era hora de celebrar com um jantar.\\n\"Bart, você pode dirigir o novo carro e me seguir? Vamos para o Restaurante Atera\", sugeriu Sanford.\\n\"Ótima ideia\", respondeu Bart, com os olhos brilhando de empolgação.\\nEle entrou no carro recém-adquirido e seguiu Sanford com entusiasmo.\\nEnquanto Maggie se acomodava no banco do passageiro ao lado de Sanford, ela achou muito mais relaxante deixar alguém dirigir do que assumir o volante sozinha.\\nA ideia de ter um carro tão sofisticado parecia desnecessária. Ela só dirigiria se fosse realmente preciso.\\nImersa em seus pensamentos, Maggie saiu do transe ao ouvir a voz de Sanford falando ao telefone.\\n\"Preciso de uma seleção de roupas da moda, sapatos e bolsas para uma jovem, e roupas e sapatos para um jovem de cerca de dezoito anos.\\nEnvie tudo para o meu apartamento.\"\\nA surpresa de Maggie deu lugar à curiosidade.\\nQuando Sanford terminou a ligação, ela perguntou: \"Você está comprando roupas para Bart e para mim?\"\\n\"Exatamente\", respondeu Sanford.\\nMaggie mexeu nos dedos, evitando o olhar dele.\\n\"Sinto muito pelo que aconteceu na concessionária, Sanford.\"\\nEla estava preocupada que o desprezo da vendedora pelo traje simples que ela e o irmão usaram pudesse ter manchado a reputação de Sanford.\\nSanford respondeu: \"Não se preocupe com isso.\\nNão deixe que a opinião de pessoas pequenas te afete.\"\\nEle a olhou por um instante antes de estender a mão e segurar a dela.\\nSeu aperto era reconfortante, e o calor de sua mão era tranquilizador.\\nMaggie olhou para ele, seus olhos cheios de gratidão.\\n\"Sanford, obrigada\", ela disse, seu coração transbordando uma felicidade que nunca tinha sentido antes.\\n\"Então, que tal você se esforçar para me agradar esta noite?\",\\nele sugeriu, com um brilho provocador nos olhos.\\nAs bochechas de Maggie coraram, e ela assentiu.\\n\"Claro.\"\\nSanford riu com a obediência dela.\\nEle estendeu a mão para bagunçar o cabelo dela e a chamou carinhosamente de \"garota boba\".\\nSua voz estava cheia de ternura.\\nMaggie, olhando para baixo, decidiu dar o seu melhor e ser a melhor versão de si mesma para ele.\\nQuando chegaram ao Restaurante Atera, saíram dos carros e o celular de Sanford tocou novamente.\\nDeterminado a não deixar Maggie sozinha,\\nele levou o trio para dentro do restaurante enquanto atendia à ligação.\\nOs funcionários reconheceram Sanford imediatamente e o saudaram com respeito.\\nAbsorvido na conversa ao telefone, ele não respondeu.\\nA atenção da equipe então se voltou para Maggie, que rapidamente se tornou o alvo de sussurros e especulações.\\n\"Não é aquela Maggie que costumava trabalhar de garçonete aqui?\"\\n\"Sim, é ela mesmo.\\nFoi demitida depois de um desentendimento com a futura esposa do chefe, não foi?\"\\n\"O que ela está fazendo aqui agora?\\nSerá que está tentando recuperar o emprego?\\'\\nOs sussurros, embora discretos, eram suficientemente altos para que Maggie pudesse ouvir cada palavra.\\nEles a fizeram lembrar do tempo em que Millie a menosprezava e Sanford ignorava tudo.\\nEra desconfortável relembrar aquele período.\\nNo entanto, a situação mudou drasticamente.\\nQuem diria que ela, que havia sido demitida pela futura esposa do chefe, agora estava na companhia do próprio chefe?\\nAbsorvida em seus pensamentos, Maggie não notou que Sanford havia parado e acabou esbarrando nele.\\nEle a segurou nos braços, deu um tapinha em seu nariz de brincadeira e disse: \"Sonhando acordada?\\nOlhe por onde anda.\"\\nMaggie apenas assentiu em silêncio.\\nO grupo de garçons, que estava sussurrando, congelou, com os olhos arregalados ao ver o casal.\\nSanford se virou para eles com um olhar frio.\\n\"Não espalhem rumores sobre minha futura esposa às minhas costas.\\nCaso contrário, vocês podem acabar aprendendo uma lição difícil.\"\\nFutura esposa do patrão?\\nEstava ele se referindo a Maggie?\\nOs garçons ficaram surpresos, e rapidamente desviaram o olhar e responderam com respeito.\\nO coração de Maggie acelerou.\\nA alegria que sentia parecia quase irreal,\\ne ela temia que fosse apenas um momento passageiro de felicidade.\\nQuando o trio estava prestes a entrar na sala privada de Sanford, uma voz feminina hesitante soou por trás.\\n\"Sanford?\"'"
     },
     "execution_count": 33,
     "metadata": {},
     "output_type": "execute_result"
    }
   ],
   "source": [
    "ptr_0 = 0\n",
    "for item in data_dict[1:]:\n",
    "    if (not isinstance(item['原文内容'], float) \n",
    "            and not isinstance(item['机翻内容'], float) \n",
    "            and not isinstance(item['一校精修内容'], float)\n",
    "            and not isinstance(item['最终发布内容'], float)):\n",
    "        if item['原文内容'].lstrip().lower().startswith('chapter'):\n",
    "            ptr_0 += 1\n",
    "            continue\n",
    "        dataset[ptr_0]['章节内容'] += ('\\n' + item['原文内容'])\n",
    "        dataset[ptr_0]['机翻内容'] += ('\\n' + item['机翻内容'])\n",
    "        dataset[ptr_0]['翻译精修'] += ('\\n' + item['一校精修内容'])\n",
    "    \n",
    "dataset[1]['翻译精修']"
   ],
   "metadata": {
    "collapsed": false,
    "ExecuteTime": {
     "end_time": "2025-10-28T16:43:08.866077Z",
     "start_time": "2025-10-28T16:43:08.512473Z"
    }
   },
   "id": "7c876f150aef97c5",
   "execution_count": 33
  },
  {
   "cell_type": "code",
   "outputs": [
    {
     "data": {
      "text/plain": "1179"
     },
     "execution_count": 34,
     "metadata": {},
     "output_type": "execute_result"
    }
   ],
   "source": [
    "len(dataset)"
   ],
   "metadata": {
    "collapsed": false,
    "ExecuteTime": {
     "end_time": "2025-10-28T16:43:29.199243Z",
     "start_time": "2025-10-28T16:43:29.195303Z"
    }
   },
   "id": "39cd0be68d9bd303",
   "execution_count": 34
  }
 ],
 "metadata": {
  "kernelspec": {
   "display_name": "Python 3",
   "language": "python",
   "name": "python3"
  },
  "language_info": {
   "codemirror_mode": {
    "name": "ipython",
    "version": 2
   },
   "file_extension": ".py",
   "mimetype": "text/x-python",
   "name": "python",
   "nbconvert_exporter": "python",
   "pygments_lexer": "ipython2",
   "version": "2.7.6"
  }
 },
 "nbformat": 4,
 "nbformat_minor": 5
}
